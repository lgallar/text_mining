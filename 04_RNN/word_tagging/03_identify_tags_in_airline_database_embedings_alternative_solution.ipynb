{
 "cells": [
  {
   "cell_type": "markdown",
   "metadata": {},
   "source": [
    "# Identify tags in airline database\n",
    "\n",
    "## Pending to complete the data creation"
   ]
  },
  {
   "cell_type": "markdown",
   "metadata": {},
   "source": [
    "# Alternative solution\n",
    "\n",
    "## Architecture\n",
    "    - Two inputs: \n",
    "        previous words seq_inputf = [W_i-k, ..., W_i-1, W_i] \n",
    "        Next words seq_inputb = [W_i, W_i+1, ...,W_i+k]\n",
    "    - Two embeding layers with shared weights\n",
    "    - Two LSTM, one forward and one backward\n",
    "    - A final concatenation and a dense layer"
   ]
  },
  {
   "cell_type": "code",
   "execution_count": null,
   "metadata": {},
   "outputs": [],
   "source": [
    "# Use tensorflow 2.0\n",
    "\n",
    "#CPU\n",
    "#!pip install -q tensorflow==2.0.0\n",
    "\n",
    "#GPU\n",
    "#!pip install -q tensorflow-gpu==2.0.0\n"
   ]
  },
  {
   "cell_type": "code",
   "execution_count": 1,
   "metadata": {},
   "outputs": [
    {
     "name": "stdout",
     "output_type": "stream",
     "text": [
      "1.14.0\n"
     ]
    }
   ],
   "source": [
    "from __future__ import print_function\n",
    "\n",
    "import sys\n",
    "import os \n",
    "import numpy as np \n",
    "import tensorflow as tf \n",
    "print(tf.__version__)\n",
    "\n",
    "#Show images\n",
    "import matplotlib.pyplot as plt\n",
    "%matplotlib inline\n",
    "# plt configuration\n",
    "plt.rcParams['figure.figsize'] = (10, 10)\n"
   ]
  },
  {
   "cell_type": "code",
   "execution_count": 3,
   "metadata": {},
   "outputs": [
    {
     "name": "stdout",
     "output_type": "stream",
     "text": [
      "ID_PAD:  572\n"
     ]
    }
   ],
   "source": [
    "# download data\n",
    "#! wget https://s3-eu-west-1.amazonaws.com/text-mining-course/atis.zip\n",
    "#! unzip atis.zip\n",
    "\n",
    "# Read data\n",
    "import pickle\n",
    "import sys\n",
    "\n",
    "atis_file = './atis/atis.pkl'\n",
    "\n",
    "with open(atis_file,'rb') as f:\n",
    "    if sys.version_info.major==2:\n",
    "        train, test, dicts = pickle.load(f) #python2.7\n",
    "    else:\n",
    "        train, test, dicts = pickle.load(f, encoding='bytes') #python3\n",
    "\n",
    "#Dictionaries and train test partition\n",
    "w2idx, ne2idx, labels2idx = dicts[b'words2idx'], dicts[b'tables2idx'], dicts[b'labels2idx']\n",
    "    \n",
    "idx2w  = dict((v,k) for k,v in w2idx.items())\n",
    "idx2la = dict((v,k) for k,v in labels2idx.items())\n",
    "\n",
    "train_x, _, train_label = train\n",
    "test_x,  _,  test_label  = test\n",
    "\n",
    "\n",
    "# Max value of word coding to assign the ID_PAD\n",
    "ID_PAD = np.max([np.max(tx) for tx in train_x]) + 1\n",
    "print('ID_PAD: ', ID_PAD)"
   ]
  },
  {
   "cell_type": "code",
   "execution_count": 22,
   "metadata": {},
   "outputs": [
    {
     "data": {
      "text/plain": [
       "([[572, 572, 572, 1], [572, 572, 1, 2], [572, 1, 2, 3]],\n",
       " [[1, 2, 3, 572], [2, 3, 572, 572], [3, 572, 572, 572]])"
      ]
     },
     "execution_count": 22,
     "metadata": {},
     "output_type": "execute_result"
    }
   ],
   "source": [
    "\n",
    "def context(l, size=3):\n",
    "    l = list(l)\n",
    "    lpadded = size * [ID_PAD] + l + size * [ID_PAD]\n",
    "    out_f = [lpadded[(i - size):i+1] for i in range(size, size + len(l), 1)]\n",
    "    out_b = [lpadded[i:(i + size)+1] for i in range(size, size + len(l), 1)]\n",
    "    return out_f, out_b\n",
    "\n",
    "context([1,2,3], size=3)"
   ]
  },
  {
   "cell_type": "code",
   "execution_count": 26,
   "metadata": {},
   "outputs": [
    {
     "name": "stdout",
     "output_type": "stream",
     "text": [
      "X trn shape:  (56590, 11) (56590, 11)\n",
      "X_tst shape:  (9198, 11) (9198, 11)\n",
      "y_trn shape:  (56590,)\n",
      "y_tst shape:  (9198,)\n",
      "Num labels:  121\n",
      "Num words:  572\n"
     ]
    }
   ],
   "source": [
    "def context(l, size=3):\n",
    "    l = list(l)\n",
    "    lpadded = size * [ID_PAD] + l + size * [ID_PAD]\n",
    "    out_f = [lpadded[(i - size):i+1] for i in range(size, size + len(l), 1)]\n",
    "    out_b = [lpadded[i:(i + size)+1] for i in range(size, size + len(l), 1)]\n",
    "    return out_f, out_b\n",
    "\n",
    "\n",
    "input_seq_length = 11\n",
    "\n",
    "# Create train and test X y.\n",
    "X_trn_f = []\n",
    "X_trn_b = []\n",
    "for s in train_x:\n",
    "    out_f, out_b = context(s, size=input_seq_length-1)\n",
    "    X_trn_f += out_f\n",
    "    X_trn_b += out_b\n",
    "X_trn_f = np.array(X_trn_f)\n",
    "X_trn_b = np.array(X_trn_b)\n",
    "\n",
    "X_tst_f = []\n",
    "X_tst_b = []\n",
    "for s in test_x:\n",
    "    out_f, out_b = context(s,size=10)\n",
    "    X_tst_f += out_f\n",
    "    X_tst_b += out_b\n",
    "X_tst_f = np.array(X_tst_f)\n",
    "X_tst_b = np.array(X_tst_b)\n",
    "\n",
    "print('X trn shape: ', X_trn_f.shape, X_trn_b.shape)\n",
    "print('X_tst shape: ', X_tst_f.shape, X_tst_b.shape)\n",
    "\n",
    "\n",
    "y_trn=[]\n",
    "for s in train_label:\n",
    "    y_trn += list(s)\n",
    "y_trn = np.array(y_trn)\n",
    "print('y_trn shape: ',y_trn.shape)\n",
    "\n",
    "y_tst=[]\n",
    "for s in test_label:\n",
    "    y_tst += list(s)\n",
    "y_tst = np.array(y_tst)\n",
    "print('y_tst shape: ',y_tst.shape)\n",
    "\n",
    "\n",
    "print('Num labels: ',len(set(y_trn)))\n",
    "print('Num words: ',len(set(idx2w)))"
   ]
  },
  {
   "cell_type": "code",
   "execution_count": 29,
   "metadata": {},
   "outputs": [],
   "source": [
    "# data attributes\n",
    "input_seq_length = X_trn_f.shape[1]\n",
    "input_vocabulary_size = len(set(idx2w)) + 1\n",
    "output_length = 127\n",
    "\n",
    "#Model parameters\n",
    "embedding_size=64\n",
    "num_hidden_lstm = 128\n"
   ]
  },
  {
   "cell_type": "code",
   "execution_count": 31,
   "metadata": {},
   "outputs": [
    {
     "name": "stdout",
     "output_type": "stream",
     "text": [
      "Build model 1\n",
      "Model: \"model\"\n",
      "__________________________________________________________________________________________________\n",
      "Layer (type)                    Output Shape         Param #     Connected to                     \n",
      "==================================================================================================\n",
      "prev1 (InputLayer)              [(None, 11)]         0                                            \n",
      "__________________________________________________________________________________________________\n",
      "prev2 (InputLayer)              [(None, 11)]         0                                            \n",
      "__________________________________________________________________________________________________\n",
      "embedding_1 (Embedding)         (None, 11, 64)       36672       prev1[0][0]                      \n",
      "                                                                 prev2[0][0]                      \n",
      "__________________________________________________________________________________________________\n",
      "lstm_1 (LSTM)                   (None, 128)          98816       embedding_1[0][0]                \n",
      "__________________________________________________________________________________________________\n",
      "lstm_2 (LSTM)                   (None, 128)          98816       embedding_1[1][0]                \n",
      "__________________________________________________________________________________________________\n",
      "concatenate (Concatenate)       (None, 256)          0           lstm_1[0][0]                     \n",
      "                                                                 lstm_2[0][0]                     \n",
      "__________________________________________________________________________________________________\n",
      "dense (Dense)                   (None, 127)          32639       concatenate[0][0]                \n",
      "==================================================================================================\n",
      "Total params: 266,943\n",
      "Trainable params: 266,943\n",
      "Non-trainable params: 0\n",
      "__________________________________________________________________________________________________\n"
     ]
    }
   ],
   "source": [
    "# build the model: Simple LSTM with embedings\n",
    "print('Build model 1')\n",
    "seq_input_f = tf.keras.layers.Input(shape=([input_seq_length]), name='prev1') \n",
    "seq_input_b = tf.keras.layers.Input(shape=([input_seq_length]), name='prev2') \n",
    "    \n",
    "embeds = tf.keras.layers.Embedding(input_vocabulary_size, embedding_size)\n",
    "\n",
    "embeds_f = embeds(seq_input_f)\n",
    "embeds_b = embeds(seq_input_b)\n",
    "\n",
    "lstm_f = tf.keras.layers.LSTM(128)(embeds_f)\n",
    "lstm_b = tf.keras.layers.LSTM(128, go_backwards=True)(embeds_b)\n",
    "\n",
    "concat = tf.keras.layers.concatenate([lstm_f, lstm_b], axis=-1)\n",
    "\n",
    "    \n",
    "output = tf.keras.layers.Dense(output_length, activation='softmax')(concat)\n",
    "\n",
    "\n",
    "model1 = tf.keras.models.Model(inputs=[seq_input_f, seq_input_b], outputs=output)\n",
    "model1.summary()\n",
    "\n",
    "# Optimizer\n",
    "adam_optimizer = tf.keras.optimizers.Adam()\n",
    "model1.compile(loss='sparse_categorical_crossentropy', optimizer=adam_optimizer, metrics=['accuracy'])\n"
   ]
  },
  {
   "cell_type": "code",
   "execution_count": 34,
   "metadata": {},
   "outputs": [
    {
     "name": "stderr",
     "output_type": "stream",
     "text": [
      "W1029 18:24:34.806710 4616394176 deprecation.py:323] From /Users/jorge/anaconda3/envs/bankia/lib/python3.5/site-packages/tensorflow/python/ops/math_grad.py:1250: add_dispatch_support.<locals>.wrapper (from tensorflow.python.ops.array_ops) is deprecated and will be removed in a future version.\n",
      "Instructions for updating:\n",
      "Use tf.where in 2.0, which has the same broadcast rule as np.where\n"
     ]
    },
    {
     "name": "stdout",
     "output_type": "stream",
     "text": [
      "Train on 56590 samples, validate on 9198 samples\n",
      "Epoch 1/20\n",
      "56590/56590 [==============================] - 19s 327us/sample - loss: 1.2284 - acc: 0.7508 - val_loss: 0.5949 - val_acc: 0.8845\n",
      "Epoch 2/20\n",
      "56590/56590 [==============================] - 18s 322us/sample - loss: 0.2816 - acc: 0.9412 - val_loss: 0.2350 - val_acc: 0.9499\n",
      "Epoch 3/20\n",
      "56590/56590 [==============================] - 19s 336us/sample - loss: 0.1168 - acc: 0.9766 - val_loss: 0.1669 - val_acc: 0.9697\n",
      "Epoch 4/20\n",
      "56590/56590 [==============================] - 19s 337us/sample - loss: 0.0687 - acc: 0.9861 - val_loss: 0.1509 - val_acc: 0.9736\n",
      "Epoch 5/20\n",
      "56590/56590 [==============================] - 19s 330us/sample - loss: 0.0475 - acc: 0.9900 - val_loss: 0.1269 - val_acc: 0.9765\n",
      "Epoch 6/20\n",
      "56590/56590 [==============================] - 19s 328us/sample - loss: 0.0356 - acc: 0.9920 - val_loss: 0.1230 - val_acc: 0.9770\n",
      "Epoch 7/20\n",
      "56590/56590 [==============================] - 19s 328us/sample - loss: 0.0269 - acc: 0.9937 - val_loss: 0.1374 - val_acc: 0.9747\n",
      "Epoch 8/20\n",
      "56590/56590 [==============================] - 18s 324us/sample - loss: 0.0212 - acc: 0.9952 - val_loss: 0.1337 - val_acc: 0.9764\n",
      "Epoch 9/20\n",
      "56590/56590 [==============================] - 18s 326us/sample - loss: 0.0170 - acc: 0.9958 - val_loss: 0.1269 - val_acc: 0.9774\n",
      "Epoch 10/20\n",
      "56590/56590 [==============================] - 18s 326us/sample - loss: 0.0131 - acc: 0.9968 - val_loss: 0.1303 - val_acc: 0.9784\n",
      "Epoch 11/20\n",
      "56590/56590 [==============================] - 18s 326us/sample - loss: 0.0112 - acc: 0.9972 - val_loss: 0.1459 - val_acc: 0.9767\n",
      "Epoch 12/20\n",
      "56590/56590 [==============================] - 18s 327us/sample - loss: 0.0077 - acc: 0.9982 - val_loss: 0.1466 - val_acc: 0.9768\n",
      "Epoch 13/20\n",
      "56590/56590 [==============================] - 19s 328us/sample - loss: 0.0061 - acc: 0.9988 - val_loss: 0.1423 - val_acc: 0.9770\n",
      "Epoch 14/20\n",
      "56590/56590 [==============================] - 19s 331us/sample - loss: 0.0050 - acc: 0.9991 - val_loss: 0.1446 - val_acc: 0.9763\n",
      "Epoch 15/20\n",
      "56590/56590 [==============================] - 20s 356us/sample - loss: 0.0054 - acc: 0.9987 - val_loss: 0.1438 - val_acc: 0.9781\n",
      "Epoch 16/20\n",
      "56590/56590 [==============================] - 19s 333us/sample - loss: 0.0033 - acc: 0.9993 - val_loss: 0.1578 - val_acc: 0.9766\n",
      "Epoch 17/20\n",
      "56590/56590 [==============================] - 20s 358us/sample - loss: 0.0027 - acc: 0.9995 - val_loss: 0.1530 - val_acc: 0.9774\n",
      "Epoch 18/20\n",
      "56590/56590 [==============================] - 19s 337us/sample - loss: 0.0019 - acc: 0.9997 - val_loss: 0.1667 - val_acc: 0.9773\n",
      "Epoch 19/20\n",
      "56590/56590 [==============================] - 20s 356us/sample - loss: 0.0022 - acc: 0.9995 - val_loss: 0.1610 - val_acc: 0.9783\n",
      "Epoch 20/20\n",
      "56590/56590 [==============================] - 21s 368us/sample - loss: 0.0022 - acc: 0.9995 - val_loss: 0.1621 - val_acc: 0.9760\n"
     ]
    }
   ],
   "source": [
    "#Fit model\n",
    "\n",
    "tb_callback = tf.keras.callbacks.TensorBoard(log_dir='./tensorboard/airline/shared_embedings/')\n",
    "\n",
    "history = model1.fit([X_trn_f, X_trn_b], y_trn, batch_size=128, epochs=20,\n",
    "           validation_data=([X_tst_f, X_tst_b], y_tst), callbacks=[tb_callback])\n"
   ]
  },
  {
   "cell_type": "code",
   "execution_count": null,
   "metadata": {},
   "outputs": [],
   "source": []
  }
 ],
 "metadata": {
  "anaconda-cloud": {},
  "kernelspec": {
   "display_name": "Python 3",
   "language": "python",
   "name": "python3"
  },
  "language_info": {
   "codemirror_mode": {
    "name": "ipython",
    "version": 3
   },
   "file_extension": ".py",
   "mimetype": "text/x-python",
   "name": "python",
   "nbconvert_exporter": "python",
   "pygments_lexer": "ipython3",
   "version": "3.7.3"
  }
 },
 "nbformat": 4,
 "nbformat_minor": 2
}
